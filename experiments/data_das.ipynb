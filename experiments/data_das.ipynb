{
 "cells": [
  {
   "cell_type": "code",
   "execution_count": 16,
   "metadata": {},
   "outputs": [],
   "source": [
    "import pandas as pd\n",
    "import matplotlib.pyplot as plt\n",
    "import seaborn as sns\n",
    "import glob\n",
    "sns.set_theme()"
   ]
  },
  {
   "cell_type": "code",
   "execution_count": 17,
   "metadata": {},
   "outputs": [],
   "source": [
    "results_df = pd.DataFrame(\n",
    "    columns=[\"system_name\", \"run_id\", \"latency\", \"operation\", \"on_leader\", \"n_nodes\", \"n_clients\", \"order_on_write\", \"experiment\"]\n",
    "            )\n",
    "\n",
    "for f in glob.glob(\"results/experiment_False_False*\"):\n",
    "    df = pd.read_csv(f)\n",
    "    df[\"experiment\"] = \"read_heavy\"\n",
    "    results_df = results_df.append(df, ignore_index=True)\n",
    "\n",
    "for f in glob.glob(\"results/experiment_False_True*\"):\n",
    "    df = pd.read_csv(f)\n",
    "    df[\"experiment\"] = \"write_heavy\"\n",
    "    results_df = results_df.append(df, ignore_index=True)\n",
    "\n",
    "for f in glob.glob(\"results/experiment_True_False*\"):\n",
    "    df = pd.read_csv(f)\n",
    "    df[\"experiment\"] = \"read_heavy\"\n",
    "    results_df = results_df.append(df, ignore_index=True)\n",
    "\n",
    "for f in glob.glob(\"results/experiment_True_True*\"):\n",
    "    df = pd.read_csv(f)\n",
    "    df[\"experiment\"] = \"write_heavy\"\n",
    "    results_df = results_df.append(df, ignore_index=True)\n",
    "\n",
    "# df = pd.read_csv('results/final/perf_exp_1.csv')\n",
    "# df.latency = df.latency * 10e-6\n",
    "results_df.head()\n",
    "df = results_df"
   ]
  },
  {
   "cell_type": "code",
   "execution_count": 18,
   "metadata": {
    "collapsed": false,
    "pycharm": {
     "name": "#%%\n"
    }
   },
   "outputs": [],
   "source": [
    "agg_df = df.groupby(['experiment', 'operation', 'run_id', 'n_nodes', 'order_on_write']).latency.mean().reset_index()\n",
    "agg_df[\"latency_factor\"] = agg_df[\"latency\"] / agg_df[\"n_nodes\"]"
   ]
  },
  {
   "cell_type": "code",
   "execution_count": 19,
   "metadata": {
    "collapsed": false,
    "pycharm": {
     "name": "#%%\n"
    }
   },
   "outputs": [
    {
     "name": "stdout",
     "output_type": "stream",
     "text": [
      "(8, 7)\n"
     ]
    },
    {
     "data": {
      "text/html": [
       "<div>\n",
       "<style scoped>\n",
       "    .dataframe tbody tr th:only-of-type {\n",
       "        vertical-align: middle;\n",
       "    }\n",
       "\n",
       "    .dataframe tbody tr th {\n",
       "        vertical-align: top;\n",
       "    }\n",
       "\n",
       "    .dataframe thead th {\n",
       "        text-align: right;\n",
       "    }\n",
       "</style>\n",
       "<table border=\"1\" class=\"dataframe\">\n",
       "  <thead>\n",
       "    <tr style=\"text-align: right;\">\n",
       "      <th></th>\n",
       "      <th>experiment</th>\n",
       "      <th>operation</th>\n",
       "      <th>run_id</th>\n",
       "      <th>n_nodes</th>\n",
       "      <th>order_on_write</th>\n",
       "      <th>latency</th>\n",
       "      <th>latency_factor</th>\n",
       "    </tr>\n",
       "  </thead>\n",
       "  <tbody>\n",
       "    <tr>\n",
       "      <th>0</th>\n",
       "      <td>read_heavy</td>\n",
       "      <td>read</td>\n",
       "      <td>0</td>\n",
       "      <td>3</td>\n",
       "      <td>False</td>\n",
       "      <td>0.000712</td>\n",
       "      <td>0.000237</td>\n",
       "    </tr>\n",
       "    <tr>\n",
       "      <th>1</th>\n",
       "      <td>read_heavy</td>\n",
       "      <td>read</td>\n",
       "      <td>0</td>\n",
       "      <td>3</td>\n",
       "      <td>True</td>\n",
       "      <td>0.000711</td>\n",
       "      <td>0.000237</td>\n",
       "    </tr>\n",
       "    <tr>\n",
       "      <th>2</th>\n",
       "      <td>read_heavy</td>\n",
       "      <td>write</td>\n",
       "      <td>0</td>\n",
       "      <td>3</td>\n",
       "      <td>False</td>\n",
       "      <td>0.001800</td>\n",
       "      <td>0.000600</td>\n",
       "    </tr>\n",
       "    <tr>\n",
       "      <th>3</th>\n",
       "      <td>read_heavy</td>\n",
       "      <td>write</td>\n",
       "      <td>0</td>\n",
       "      <td>3</td>\n",
       "      <td>True</td>\n",
       "      <td>0.001794</td>\n",
       "      <td>0.000598</td>\n",
       "    </tr>\n",
       "    <tr>\n",
       "      <th>4</th>\n",
       "      <td>write_heavy</td>\n",
       "      <td>read</td>\n",
       "      <td>0</td>\n",
       "      <td>3</td>\n",
       "      <td>False</td>\n",
       "      <td>0.000723</td>\n",
       "      <td>0.000241</td>\n",
       "    </tr>\n",
       "  </tbody>\n",
       "</table>\n",
       "</div>"
      ],
      "text/plain": [
       "    experiment operation  run_id  n_nodes  order_on_write   latency  \\\n",
       "0   read_heavy      read       0        3           False  0.000712   \n",
       "1   read_heavy      read       0        3            True  0.000711   \n",
       "2   read_heavy     write       0        3           False  0.001800   \n",
       "3   read_heavy     write       0        3            True  0.001794   \n",
       "4  write_heavy      read       0        3           False  0.000723   \n",
       "\n",
       "   latency_factor  \n",
       "0        0.000237  \n",
       "1        0.000237  \n",
       "2        0.000600  \n",
       "3        0.000598  \n",
       "4        0.000241  "
      ]
     },
     "metadata": {},
     "output_type": "display_data"
    }
   ],
   "source": [
    "print(agg_df.shape)\n",
    "display(agg_df.head())"
   ]
  },
  {
   "cell_type": "code",
   "execution_count": 26,
   "metadata": {
    "collapsed": false,
    "pycharm": {
     "name": "#%%\n"
    }
   },
   "outputs": [
    {
     "data": {
      "image/png": "[encoded data removed]",
      "text/plain": [
       "<Figure size 432x288 with 1 Axes>"
      ]
     },
     "metadata": {},
     "output_type": "display_data"
    }
   ],
   "source": [
    "# ax = None\n",
    "# for group, group_df in agg_df.groupby(['system_name', 'operation']):\n",
    "#     label = f\"order_on_write={group[0]}, operation={group[1]}\"\n",
    "#     ax = group_df.plot(x='n_nodes', y='speedup', figsize=(24, 6), ax=ax, label=label)\n",
    "\n",
    "# fig, axs = plt.subplots(2, 1, figsize=(20, 12))\n",
    "\n",
    "idx = 0\n",
    "ax= None\n",
    "for group, group_df in agg_df.groupby(['operation']):\n",
    "    # display(group_df)\n",
    "    # axs[idx].set_title(group_df.iloc[0, 1])\n",
    "    ax = sns.barplot(ax=ax, x='n_nodes', y='latency', hue=\"order_on_write\", data=group_df)\n",
    "    idx += 1\n"
   ]
  },
  {
   "cell_type": "code",
   "execution_count": 21,
   "metadata": {
    "collapsed": false,
    "pycharm": {
     "name": "#%%\n"
    }
   },
   "outputs": [],
   "source": [
    "agg_df_leader = df.groupby(['experiment', 'operation', 'run_id', 'n_nodes', 'order_on_write', 'on_leader']).latency.mean().reset_index()\n",
    "agg_df_leader[\"latency_factor\"] = agg_df_leader[\"latency\"] / agg_df_leader[\"n_nodes\"]"
   ]
  },
  {
   "cell_type": "code",
   "execution_count": 55,
   "metadata": {
    "collapsed": false,
    "pycharm": {
     "name": "#%%\n"
    }
   },
   "outputs": [
    {
     "data": {
      "text/plain": [
       "<seaborn.axisgrid.FacetGrid at 0x1c8d7bbf9a0>"
      ]
     },
     "execution_count": 55,
     "metadata": {},
     "output_type": "execute_result"
    },
    {
     "data": {
      "image/png": "[encoded data removed]",
      "text/plain": [
       "<Figure size 783.1x360 with 2 Axes>"
      ]
     },
     "metadata": {},
     "output_type": "display_data"
    }
   ],
   "source": [
    "# fig, axs = plt.subplots(8, 1, figsize=(8, 18))\n",
    "\n",
    "# idx = 0\n",
    "# ax= None\n",
    "\n",
    "# agg_df_leader.groupby([\"experiment\", \"order_on_write\", 'operation']).plot(kind=\"bar\", y='latency')\n",
    "\n",
    "\n",
    "\n",
    "sns.catplot(kind=\"bar\", x=\"experiment\", y=\"latency\", hue=\"operation\", col=\"order_on_write\", data=agg_df_leader)\n",
    "\n",
    "# for group, group_df in agg_df_leader.groupby([\"experiment\", 'operation']):\n",
    "#     # display(group_df)\n",
    "#     # axs[idx].set_title(group_df.iloc[0, 1])\n",
    "#     # axs[idx].set_title(f\"order_on_write={group[0]}, operation={group[1]}\")\n",
    "#     plt.title(str(group))\n",
    "#     # plt.title(f\"order_on_write={group[0]}, operation={group[1]}\")\n",
    "#     sns.barplot(x='experiment', y='latency', hue=\"on_leader\", data=group_df)\n",
    "#     # plt.show()\n",
    "#     idx += 1"
   ]
  },
  {
   "cell_type": "code",
   "execution_count": 23,
   "metadata": {
    "collapsed": false,
    "pycharm": {
     "name": "#%%\n"
    }
   },
   "outputs": [],
   "source": [
    "# def speedup(sub_df):\n",
    "#     two_nodes_df = sub_df[sub_df[\"n_nodes\"] == 2]\n",
    "#     sub_df[\"speedup\"] = sub_df[\"latency\"] / two_nodes_df[\"latency\"].values\n",
    "#     return sub_df\n",
    "#\n",
    "# agg_df_with_speedup = agg_df.groupby(['order_on_write', 'operation']).apply(speedup)\n",
    "\n",
    "# fig = ax.get_figure()\n",
    "# fig.savefig('results/figures/order_before_vs_after_write.pdf')"
   ]
  },
  {
   "cell_type": "code",
   "execution_count": null,
   "metadata": {
    "collapsed": false,
    "pycharm": {
     "name": "#%%\n"
    }
   },
   "outputs": [],
   "source": []
  }
 ],
 "metadata": {
  "interpreter": {
   "hash": "c5b322d1f5beaecfb28b050f61b5bc2c682da0c88a01138942a1439f934c1c07"
  },
  "kernelspec": {
   "display_name": "Python 3.9.7 64-bit",
   "language": "python",
   "name": "python3"
  },
  "language_info": {
   "codemirror_mode": {
    "name": "ipython",
    "version": 3
   },
   "file_extension": ".py",
   "mimetype": "text/x-python",
   "name": "python",
   "nbconvert_exporter": "python",
   "pygments_lexer": "ipython3",
   "version": "3.9.7"
  },
  "orig_nbformat": 4
 },
 "nbformat": 4,
 "nbformat_minor": 2
}
