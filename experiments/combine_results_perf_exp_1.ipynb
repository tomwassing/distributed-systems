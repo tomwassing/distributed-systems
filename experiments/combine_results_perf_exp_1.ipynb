{
 "cells": [
  {
   "cell_type": "code",
   "execution_count": 1,
   "metadata": {
    "collapsed": true
   },
   "outputs": [],
   "source": [
    "import pandas as pd"
   ]
  },
  {
   "cell_type": "code",
   "execution_count": 3,
   "outputs": [],
   "source": [
    "r1 = pd.read_csv('./results/experiment1_up_to_4_nodes.csv')\n",
    "r2 = pd.read_csv('./results/experiment1_8_nodes.csv')\n",
    "r3 = pd.read_csv('./results/experiment1_16_nodes.csv')"
   ],
   "metadata": {
    "collapsed": false,
    "pycharm": {
     "name": "#%%\n"
    }
   }
  },
  {
   "cell_type": "code",
   "execution_count": 4,
   "outputs": [
    {
     "data": {
      "text/plain": "                             system_name  run_id  latency operation  \\\n0  ordering_after_write_2_nodes_1_client       0   498183     write   \n1  ordering_after_write_2_nodes_1_client       0   443446     write   \n2  ordering_after_write_2_nodes_1_client       0   236459      read   \n3  ordering_after_write_2_nodes_1_client       0   148376      read   \n4  ordering_after_write_2_nodes_1_client       0   314846     write   \n\n   on_leader  n_nodes  n_clients  order_on_write  \n0      False        2          1           False  \n1      False        2          1           False  \n2       True        2          1           False  \n3       True        2          1           False  \n4       True        2          1           False  ",
      "text/html": "<div>\n<style scoped>\n    .dataframe tbody tr th:only-of-type {\n        vertical-align: middle;\n    }\n\n    .dataframe tbody tr th {\n        vertical-align: top;\n    }\n\n    .dataframe thead th {\n        text-align: right;\n    }\n</style>\n<table border=\"1\" class=\"dataframe\">\n  <thead>\n    <tr style=\"text-align: right;\">\n      <th></th>\n      <th>system_name</th>\n      <th>run_id</th>\n      <th>latency</th>\n      <th>operation</th>\n      <th>on_leader</th>\n      <th>n_nodes</th>\n      <th>n_clients</th>\n      <th>order_on_write</th>\n    </tr>\n  </thead>\n  <tbody>\n    <tr>\n      <th>0</th>\n      <td>ordering_after_write_2_nodes_1_client</td>\n      <td>0</td>\n      <td>498183</td>\n      <td>write</td>\n      <td>False</td>\n      <td>2</td>\n      <td>1</td>\n      <td>False</td>\n    </tr>\n    <tr>\n      <th>1</th>\n      <td>ordering_after_write_2_nodes_1_client</td>\n      <td>0</td>\n      <td>443446</td>\n      <td>write</td>\n      <td>False</td>\n      <td>2</td>\n      <td>1</td>\n      <td>False</td>\n    </tr>\n    <tr>\n      <th>2</th>\n      <td>ordering_after_write_2_nodes_1_client</td>\n      <td>0</td>\n      <td>236459</td>\n      <td>read</td>\n      <td>True</td>\n      <td>2</td>\n      <td>1</td>\n      <td>False</td>\n    </tr>\n    <tr>\n      <th>3</th>\n      <td>ordering_after_write_2_nodes_1_client</td>\n      <td>0</td>\n      <td>148376</td>\n      <td>read</td>\n      <td>True</td>\n      <td>2</td>\n      <td>1</td>\n      <td>False</td>\n    </tr>\n    <tr>\n      <th>4</th>\n      <td>ordering_after_write_2_nodes_1_client</td>\n      <td>0</td>\n      <td>314846</td>\n      <td>write</td>\n      <td>True</td>\n      <td>2</td>\n      <td>1</td>\n      <td>False</td>\n    </tr>\n  </tbody>\n</table>\n</div>"
     },
     "metadata": {},
     "output_type": "display_data"
    },
    {
     "data": {
      "text/plain": "                             system_name  run_id  latency operation  \\\n0  ordering_after_write_8_nodes_1_client       0  1120193     write   \n1  ordering_after_write_8_nodes_1_client       0   435129      read   \n2  ordering_after_write_8_nodes_1_client       0   329731      read   \n3  ordering_after_write_8_nodes_1_client       0   119830      read   \n4  ordering_after_write_8_nodes_1_client       0   118983      read   \n\n   on_leader  n_nodes  n_clients  order_on_write  \n0      False        8          1           False  \n1      False        8          1           False  \n2       True        8          1           False  \n3      False        8          1           False  \n4      False        8          1           False  ",
      "text/html": "<div>\n<style scoped>\n    .dataframe tbody tr th:only-of-type {\n        vertical-align: middle;\n    }\n\n    .dataframe tbody tr th {\n        vertical-align: top;\n    }\n\n    .dataframe thead th {\n        text-align: right;\n    }\n</style>\n<table border=\"1\" class=\"dataframe\">\n  <thead>\n    <tr style=\"text-align: right;\">\n      <th></th>\n      <th>system_name</th>\n      <th>run_id</th>\n      <th>latency</th>\n      <th>operation</th>\n      <th>on_leader</th>\n      <th>n_nodes</th>\n      <th>n_clients</th>\n      <th>order_on_write</th>\n    </tr>\n  </thead>\n  <tbody>\n    <tr>\n      <th>0</th>\n      <td>ordering_after_write_8_nodes_1_client</td>\n      <td>0</td>\n      <td>1120193</td>\n      <td>write</td>\n      <td>False</td>\n      <td>8</td>\n      <td>1</td>\n      <td>False</td>\n    </tr>\n    <tr>\n      <th>1</th>\n      <td>ordering_after_write_8_nodes_1_client</td>\n      <td>0</td>\n      <td>435129</td>\n      <td>read</td>\n      <td>False</td>\n      <td>8</td>\n      <td>1</td>\n      <td>False</td>\n    </tr>\n    <tr>\n      <th>2</th>\n      <td>ordering_after_write_8_nodes_1_client</td>\n      <td>0</td>\n      <td>329731</td>\n      <td>read</td>\n      <td>True</td>\n      <td>8</td>\n      <td>1</td>\n      <td>False</td>\n    </tr>\n    <tr>\n      <th>3</th>\n      <td>ordering_after_write_8_nodes_1_client</td>\n      <td>0</td>\n      <td>119830</td>\n      <td>read</td>\n      <td>False</td>\n      <td>8</td>\n      <td>1</td>\n      <td>False</td>\n    </tr>\n    <tr>\n      <th>4</th>\n      <td>ordering_after_write_8_nodes_1_client</td>\n      <td>0</td>\n      <td>118983</td>\n      <td>read</td>\n      <td>False</td>\n      <td>8</td>\n      <td>1</td>\n      <td>False</td>\n    </tr>\n  </tbody>\n</table>\n</div>"
     },
     "metadata": {},
     "output_type": "display_data"
    },
    {
     "data": {
      "text/plain": "                              system_name  run_id  latency operation  \\\n0  ordering_after_write_16_nodes_1_client       0  2237500     write   \n1  ordering_after_write_16_nodes_1_client       0   666917      read   \n2  ordering_after_write_16_nodes_1_client       0   513809      read   \n3  ordering_after_write_16_nodes_1_client       0   187480      read   \n4  ordering_after_write_16_nodes_1_client       0   141701      read   \n\n   on_leader  n_nodes  n_clients  order_on_write  \n0      False       16          1           False  \n1      False       16          1           False  \n2      False       16          1           False  \n3      False       16          1           False  \n4      False       16          1           False  ",
      "text/html": "<div>\n<style scoped>\n    .dataframe tbody tr th:only-of-type {\n        vertical-align: middle;\n    }\n\n    .dataframe tbody tr th {\n        vertical-align: top;\n    }\n\n    .dataframe thead th {\n        text-align: right;\n    }\n</style>\n<table border=\"1\" class=\"dataframe\">\n  <thead>\n    <tr style=\"text-align: right;\">\n      <th></th>\n      <th>system_name</th>\n      <th>run_id</th>\n      <th>latency</th>\n      <th>operation</th>\n      <th>on_leader</th>\n      <th>n_nodes</th>\n      <th>n_clients</th>\n      <th>order_on_write</th>\n    </tr>\n  </thead>\n  <tbody>\n    <tr>\n      <th>0</th>\n      <td>ordering_after_write_16_nodes_1_client</td>\n      <td>0</td>\n      <td>2237500</td>\n      <td>write</td>\n      <td>False</td>\n      <td>16</td>\n      <td>1</td>\n      <td>False</td>\n    </tr>\n    <tr>\n      <th>1</th>\n      <td>ordering_after_write_16_nodes_1_client</td>\n      <td>0</td>\n      <td>666917</td>\n      <td>read</td>\n      <td>False</td>\n      <td>16</td>\n      <td>1</td>\n      <td>False</td>\n    </tr>\n    <tr>\n      <th>2</th>\n      <td>ordering_after_write_16_nodes_1_client</td>\n      <td>0</td>\n      <td>513809</td>\n      <td>read</td>\n      <td>False</td>\n      <td>16</td>\n      <td>1</td>\n      <td>False</td>\n    </tr>\n    <tr>\n      <th>3</th>\n      <td>ordering_after_write_16_nodes_1_client</td>\n      <td>0</td>\n      <td>187480</td>\n      <td>read</td>\n      <td>False</td>\n      <td>16</td>\n      <td>1</td>\n      <td>False</td>\n    </tr>\n    <tr>\n      <th>4</th>\n      <td>ordering_after_write_16_nodes_1_client</td>\n      <td>0</td>\n      <td>141701</td>\n      <td>read</td>\n      <td>False</td>\n      <td>16</td>\n      <td>1</td>\n      <td>False</td>\n    </tr>\n  </tbody>\n</table>\n</div>"
     },
     "metadata": {},
     "output_type": "display_data"
    }
   ],
   "source": [
    "display(r1.head())\n",
    "display(r2.head())\n",
    "display(r3.head())"
   ],
   "metadata": {
    "collapsed": false,
    "pycharm": {
     "name": "#%%\n"
    }
   }
  },
  {
   "cell_type": "code",
   "execution_count": 5,
   "outputs": [],
   "source": [
    "r_final = pd.concat([r1, r2, r3])"
   ],
   "metadata": {
    "collapsed": false,
    "pycharm": {
     "name": "#%%\n"
    }
   }
  },
  {
   "cell_type": "code",
   "execution_count": 6,
   "outputs": [
    {
     "data": {
      "text/plain": "(16000000, 8)"
     },
     "execution_count": 6,
     "metadata": {},
     "output_type": "execute_result"
    }
   ],
   "source": [
    "r_final.shape"
   ],
   "metadata": {
    "collapsed": false,
    "pycharm": {
     "name": "#%%\n"
    }
   }
  },
  {
   "cell_type": "code",
   "execution_count": 8,
   "outputs": [],
   "source": [
    "r_final.to_csv('././results/final/perf_exp_1.csv', index=False)"
   ],
   "metadata": {
    "collapsed": false,
    "pycharm": {
     "name": "#%%\n"
    }
   }
  },
  {
   "cell_type": "code",
   "execution_count": null,
   "outputs": [],
   "source": [],
   "metadata": {
    "collapsed": false,
    "pycharm": {
     "name": "#%%\n"
    }
   }
  }
 ],
 "metadata": {
  "kernelspec": {
   "display_name": "Python 3",
   "language": "python",
   "name": "python3"
  },
  "language_info": {
   "codemirror_mode": {
    "name": "ipython",
    "version": 2
   },
   "file_extension": ".py",
   "mimetype": "text/x-python",
   "name": "python",
   "nbconvert_exporter": "python",
   "pygments_lexer": "ipython2",
   "version": "2.7.6"
  }
 },
 "nbformat": 4,
 "nbformat_minor": 0
}