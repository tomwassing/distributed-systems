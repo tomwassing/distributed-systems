{
 "cells": [
  {
   "cell_type": "code",
   "execution_count": 1,
   "metadata": {},
   "outputs": [],
   "source": [
    "import pandas as pd\n",
    "import matplotlib.pyplot as plt\n",
    "import seaborn as sns\n",
    "import glob\n",
    "\n",
    "sns.set_theme()"
   ]
  },
  {
   "cell_type": "code",
   "execution_count": 2,
   "metadata": {},
   "outputs": [],
   "source": [
    "data_df = pd.DataFrame(columns=[\"system_name\", \"run_id\", \"latency\", \"operation\", \"on_leader\", \"n_nodes\", \"n_clients\", \"order_on_write\"])\n",
    "\n",
    "for f in glob.glob(\"results/experiment1_*\"):\n",
    "    temp_df = pd.read_csv(f)\n",
    "    data_df = data_df.append(temp_df, ignore_index=True)"
   ]
  },
  {
   "cell_type": "code",
   "execution_count": 3,
   "metadata": {},
   "outputs": [
    {
     "data": {
      "text/html": [
       "<div>\n",
       "<style scoped>\n",
       "    .dataframe tbody tr th:only-of-type {\n",
       "        vertical-align: middle;\n",
       "    }\n",
       "\n",
       "    .dataframe tbody tr th {\n",
       "        vertical-align: top;\n",
       "    }\n",
       "\n",
       "    .dataframe thead th {\n",
       "        text-align: right;\n",
       "    }\n",
       "</style>\n",
       "<table border=\"1\" class=\"dataframe\">\n",
       "  <thead>\n",
       "    <tr style=\"text-align: right;\">\n",
       "      <th></th>\n",
       "      <th>system_name</th>\n",
       "      <th>run_id</th>\n",
       "      <th>latency</th>\n",
       "      <th>operation</th>\n",
       "      <th>on_leader</th>\n",
       "      <th>n_nodes</th>\n",
       "      <th>n_clients</th>\n",
       "      <th>order_on_write</th>\n",
       "    </tr>\n",
       "  </thead>\n",
       "  <tbody>\n",
       "    <tr>\n",
       "      <th>0</th>\n",
       "      <td>DAS</td>\n",
       "      <td>0</td>\n",
       "      <td>0.003982</td>\n",
       "      <td>write</td>\n",
       "      <td>False</td>\n",
       "      <td>2</td>\n",
       "      <td>1</td>\n",
       "      <td>False</td>\n",
       "    </tr>\n",
       "    <tr>\n",
       "      <th>1</th>\n",
       "      <td>DAS</td>\n",
       "      <td>0</td>\n",
       "      <td>0.002181</td>\n",
       "      <td>write</td>\n",
       "      <td>False</td>\n",
       "      <td>2</td>\n",
       "      <td>1</td>\n",
       "      <td>False</td>\n",
       "    </tr>\n",
       "    <tr>\n",
       "      <th>2</th>\n",
       "      <td>DAS</td>\n",
       "      <td>0</td>\n",
       "      <td>0.001471</td>\n",
       "      <td>read</td>\n",
       "      <td>True</td>\n",
       "      <td>2</td>\n",
       "      <td>1</td>\n",
       "      <td>False</td>\n",
       "    </tr>\n",
       "    <tr>\n",
       "      <th>3</th>\n",
       "      <td>DAS</td>\n",
       "      <td>0</td>\n",
       "      <td>0.001803</td>\n",
       "      <td>write</td>\n",
       "      <td>False</td>\n",
       "      <td>2</td>\n",
       "      <td>1</td>\n",
       "      <td>False</td>\n",
       "    </tr>\n",
       "    <tr>\n",
       "      <th>4</th>\n",
       "      <td>DAS</td>\n",
       "      <td>0</td>\n",
       "      <td>0.001705</td>\n",
       "      <td>write</td>\n",
       "      <td>False</td>\n",
       "      <td>2</td>\n",
       "      <td>1</td>\n",
       "      <td>False</td>\n",
       "    </tr>\n",
       "  </tbody>\n",
       "</table>\n",
       "</div>"
      ],
      "text/plain": [
       "  system_name run_id   latency operation on_leader n_nodes n_clients  \\\n",
       "0         DAS      0  0.003982     write     False       2         1   \n",
       "1         DAS      0  0.002181     write     False       2         1   \n",
       "2         DAS      0  0.001471      read      True       2         1   \n",
       "3         DAS      0  0.001803     write     False       2         1   \n",
       "4         DAS      0  0.001705     write     False       2         1   \n",
       "\n",
       "  order_on_write  \n",
       "0          False  \n",
       "1          False  \n",
       "2          False  \n",
       "3          False  \n",
       "4          False  "
      ]
     },
     "metadata": {},
     "output_type": "display_data"
    }
   ],
   "source": [
    "display(data_df.head())"
   ]
  },
  {
   "cell_type": "code",
   "execution_count": 4,
   "metadata": {
    "collapsed": false,
    "pycharm": {
     "name": "#%%\n"
    }
   },
   "outputs": [],
   "source": [
    "agg_df = data_df.groupby(['operation', 'run_id', 'n_nodes', 'order_on_write']).latency.mean().reset_index()\n",
    "agg_df[\"latency_factor\"] = agg_df[\"latency\"] / agg_df[\"n_nodes\"]"
   ]
  },
  {
   "cell_type": "code",
   "execution_count": 17,
   "metadata": {
    "collapsed": false,
    "pycharm": {
     "name": "#%%\n"
    }
   },
   "outputs": [
    {
     "name": "stdout",
     "output_type": "stream",
     "text": [
      "read\n"
     ]
    },
    {
     "data": {
      "image/png": "[encoded data removed]",
      "text/plain": [
       "<Figure size 432x288 with 1 Axes>"
      ]
     },
     "metadata": {},
     "output_type": "display_data"
    },
    {
     "name": "stdout",
     "output_type": "stream",
     "text": [
      "write\n"
     ]
    },
    {
     "data": {
      "image/png": "[encoded data removed]",
      "text/plain": [
       "<Figure size 432x288 with 1 Axes>"
      ]
     },
     "metadata": {},
     "output_type": "display_data"
    },
    {
     "data": {
      "image/png": "[encoded data removed]",
      "text/plain": [
       "<Figure size 432x288 with 1 Axes>"
      ]
     },
     "metadata": {},
     "output_type": "display_data"
    }
   ],
   "source": [
    "# ax = None\n",
    "# for group, group_df in agg_df.groupby(['system_name', 'operation']):\n",
    "#     label = f\"order_on_write={group[0]}, operation={group[1]}\"\n",
    "#     ax = group_df.plot(x='n_nodes', y='speedup', figsize=(24, 6), ax=ax, label=label)\n",
    "\n",
    "# fig, axs = plt.subplots(2, 1, figsize=(20, 12))\n",
    "\n",
    "for group, group_df in data_df.groupby(['operation']):\n",
    "    print(group)\n",
    "    sns.boxplot(x='n_nodes', y='latency', hue=\"order_on_write\", data=group_df, showfliers=False)\n",
    "    plt.show()\n",
    "\n",
    "idx = 0\n",
    "ax= None\n",
    "for group, group_df in agg_df.groupby(['operation']):\n",
    "    # display(group_df)\n",
    "    # axs[idx].set_title(group_df.iloc[0, 1])\n",
    "    ax = sns.barplot(ax=ax, x='n_nodes', y='latency', hue=\"order_on_write\", data=group_df)\n",
    "    idx += 1\n"
   ]
  },
  {
   "cell_type": "code",
   "execution_count": 21,
   "metadata": {},
   "outputs": [
    {
     "data": {
      "text/html": [
       "<div>\n",
       "<style scoped>\n",
       "    .dataframe tbody tr th:only-of-type {\n",
       "        vertical-align: middle;\n",
       "    }\n",
       "\n",
       "    .dataframe tbody tr th {\n",
       "        vertical-align: top;\n",
       "    }\n",
       "\n",
       "    .dataframe thead th {\n",
       "        text-align: right;\n",
       "    }\n",
       "</style>\n",
       "<table border=\"1\" class=\"dataframe\">\n",
       "  <thead>\n",
       "    <tr style=\"text-align: right;\">\n",
       "      <th></th>\n",
       "      <th>operation</th>\n",
       "      <th>run_id</th>\n",
       "      <th>n_nodes</th>\n",
       "      <th>order_on_write</th>\n",
       "      <th>level_4</th>\n",
       "      <th>latency</th>\n",
       "    </tr>\n",
       "  </thead>\n",
       "  <tbody>\n",
       "    <tr>\n",
       "      <th>0</th>\n",
       "      <td>read</td>\n",
       "      <td>0</td>\n",
       "      <td>2</td>\n",
       "      <td>False</td>\n",
       "      <td>0.000</td>\n",
       "      <td>0.000370</td>\n",
       "    </tr>\n",
       "    <tr>\n",
       "      <th>1</th>\n",
       "      <td>read</td>\n",
       "      <td>0</td>\n",
       "      <td>2</td>\n",
       "      <td>False</td>\n",
       "      <td>0.500</td>\n",
       "      <td>0.000695</td>\n",
       "    </tr>\n",
       "    <tr>\n",
       "      <th>2</th>\n",
       "      <td>read</td>\n",
       "      <td>0</td>\n",
       "      <td>2</td>\n",
       "      <td>False</td>\n",
       "      <td>0.600</td>\n",
       "      <td>0.000716</td>\n",
       "    </tr>\n",
       "    <tr>\n",
       "      <th>3</th>\n",
       "      <td>read</td>\n",
       "      <td>0</td>\n",
       "      <td>2</td>\n",
       "      <td>False</td>\n",
       "      <td>0.700</td>\n",
       "      <td>0.000739</td>\n",
       "    </tr>\n",
       "    <tr>\n",
       "      <th>4</th>\n",
       "      <td>read</td>\n",
       "      <td>0</td>\n",
       "      <td>2</td>\n",
       "      <td>False</td>\n",
       "      <td>0.800</td>\n",
       "      <td>0.000771</td>\n",
       "    </tr>\n",
       "    <tr>\n",
       "      <th>...</th>\n",
       "      <td>...</td>\n",
       "      <td>...</td>\n",
       "      <td>...</td>\n",
       "      <td>...</td>\n",
       "      <td>...</td>\n",
       "      <td>...</td>\n",
       "    </tr>\n",
       "    <tr>\n",
       "      <th>107</th>\n",
       "      <td>write</td>\n",
       "      <td>0</td>\n",
       "      <td>4</td>\n",
       "      <td>True</td>\n",
       "      <td>0.940</td>\n",
       "      <td>0.002428</td>\n",
       "    </tr>\n",
       "    <tr>\n",
       "      <th>108</th>\n",
       "      <td>write</td>\n",
       "      <td>0</td>\n",
       "      <td>4</td>\n",
       "      <td>True</td>\n",
       "      <td>0.950</td>\n",
       "      <td>0.002473</td>\n",
       "    </tr>\n",
       "    <tr>\n",
       "      <th>109</th>\n",
       "      <td>write</td>\n",
       "      <td>0</td>\n",
       "      <td>4</td>\n",
       "      <td>True</td>\n",
       "      <td>0.980</td>\n",
       "      <td>0.002617</td>\n",
       "    </tr>\n",
       "    <tr>\n",
       "      <th>110</th>\n",
       "      <td>write</td>\n",
       "      <td>0</td>\n",
       "      <td>4</td>\n",
       "      <td>True</td>\n",
       "      <td>0.990</td>\n",
       "      <td>0.002688</td>\n",
       "    </tr>\n",
       "    <tr>\n",
       "      <th>111</th>\n",
       "      <td>write</td>\n",
       "      <td>0</td>\n",
       "      <td>4</td>\n",
       "      <td>True</td>\n",
       "      <td>0.999</td>\n",
       "      <td>0.003301</td>\n",
       "    </tr>\n",
       "  </tbody>\n",
       "</table>\n",
       "<p>112 rows × 6 columns</p>\n",
       "</div>"
      ],
      "text/plain": [
       "    operation  run_id  n_nodes  order_on_write  level_4   latency\n",
       "0        read       0        2           False    0.000  0.000370\n",
       "1        read       0        2           False    0.500  0.000695\n",
       "2        read       0        2           False    0.600  0.000716\n",
       "3        read       0        2           False    0.700  0.000739\n",
       "4        read       0        2           False    0.800  0.000771\n",
       "..        ...     ...      ...             ...      ...       ...\n",
       "107     write       0        4            True    0.940  0.002428\n",
       "108     write       0        4            True    0.950  0.002473\n",
       "109     write       0        4            True    0.980  0.002617\n",
       "110     write       0        4            True    0.990  0.002688\n",
       "111     write       0        4            True    0.999  0.003301\n",
       "\n",
       "[112 rows x 6 columns]"
      ]
     },
     "metadata": {},
     "output_type": "display_data"
    }
   ],
   "source": [
    "q_df = data_df.groupby(['operation', 'run_id', 'n_nodes', 'order_on_write']).latency.quantile([0, .5, .6, .7, .8, .9, .91, .92, .93, .94, .95, .98, .99, .999]).reset_index()\n",
    "\n",
    "display(q_df)"
   ]
  },
  {
   "cell_type": "code",
   "execution_count": 32,
   "metadata": {},
   "outputs": [
    {
     "data": {
      "image/png": "[encoded data removed]",
      "text/plain": [
       "<Figure size 864x432 with 1 Axes>"
      ]
     },
     "metadata": {},
     "output_type": "display_data"
    }
   ],
   "source": [
    "ax = None\n",
    "for group, group_df in q_df[q_df[\"n_nodes\"] == 4].groupby(['operation', 'order_on_write']):\n",
    "    ax = group_df.plot(x='level_4', y='latency', figsize=(12, 6), label=group, ax=ax)\n",
    "    # sns.boxplot(x='n_nodes', y='latency', hue=\"order_on_write\", data=group_df, showfliers=False)\n",
    "    # plt.show()"
   ]
  },
  {
   "cell_type": "code",
   "execution_count": 6,
   "metadata": {
    "collapsed": false,
    "pycharm": {
     "name": "#%%\n"
    }
   },
   "outputs": [
    {
     "ename": "NameError",
     "evalue": "name 'df' is not defined",
     "output_type": "error",
     "traceback": [
      "\u001b[1;31m---------------------------------------------------------------------------\u001b[0m",
      "\u001b[1;31mNameError\u001b[0m                                 Traceback (most recent call last)",
      "\u001b[1;32m<ipython-input-6-4020df336e1c>\u001b[0m in \u001b[0;36m<module>\u001b[1;34m\u001b[0m\n\u001b[1;32m----> 1\u001b[1;33m \u001b[0magg_df_leader\u001b[0m \u001b[1;33m=\u001b[0m \u001b[0mdf\u001b[0m\u001b[1;33m.\u001b[0m\u001b[0mgroupby\u001b[0m\u001b[1;33m(\u001b[0m\u001b[1;33m[\u001b[0m\u001b[1;34m'experiment'\u001b[0m\u001b[1;33m,\u001b[0m \u001b[1;34m'operation'\u001b[0m\u001b[1;33m,\u001b[0m \u001b[1;34m'run_id'\u001b[0m\u001b[1;33m,\u001b[0m \u001b[1;34m'n_nodes'\u001b[0m\u001b[1;33m,\u001b[0m \u001b[1;34m'order_on_write'\u001b[0m\u001b[1;33m,\u001b[0m \u001b[1;34m'on_leader'\u001b[0m\u001b[1;33m]\u001b[0m\u001b[1;33m)\u001b[0m\u001b[1;33m.\u001b[0m\u001b[0mlatency\u001b[0m\u001b[1;33m.\u001b[0m\u001b[0mmean\u001b[0m\u001b[1;33m(\u001b[0m\u001b[1;33m)\u001b[0m\u001b[1;33m.\u001b[0m\u001b[0mreset_index\u001b[0m\u001b[1;33m(\u001b[0m\u001b[1;33m)\u001b[0m\u001b[1;33m\u001b[0m\u001b[1;33m\u001b[0m\u001b[0m\n\u001b[0m\u001b[0;32m      2\u001b[0m \u001b[0magg_df_leader\u001b[0m\u001b[1;33m[\u001b[0m\u001b[1;34m\"latency_factor\"\u001b[0m\u001b[1;33m]\u001b[0m \u001b[1;33m=\u001b[0m \u001b[0magg_df_leader\u001b[0m\u001b[1;33m[\u001b[0m\u001b[1;34m\"latency\"\u001b[0m\u001b[1;33m]\u001b[0m \u001b[1;33m/\u001b[0m \u001b[0magg_df_leader\u001b[0m\u001b[1;33m[\u001b[0m\u001b[1;34m\"n_nodes\"\u001b[0m\u001b[1;33m]\u001b[0m\u001b[1;33m\u001b[0m\u001b[1;33m\u001b[0m\u001b[0m\n",
      "\u001b[1;31mNameError\u001b[0m: name 'df' is not defined"
     ]
    }
   ],
   "source": [
    "agg_df_leader = df.groupby(['experiment', 'operation', 'run_id', 'n_nodes', 'order_on_write', 'on_leader']).latency.mean().reset_index()\n",
    "agg_df_leader[\"latency_factor\"] = agg_df_leader[\"latency\"] / agg_df_leader[\"n_nodes\"]"
   ]
  },
  {
   "cell_type": "code",
   "execution_count": null,
   "metadata": {
    "collapsed": false,
    "pycharm": {
     "name": "#%%\n"
    }
   },
   "outputs": [],
   "source": [
    "fig, axs = plt.subplots(8, 1, figsize=(8, 18))\n",
    "\n",
    "idx = 0\n",
    "ax= None\n",
    "\n",
    "agg_df_leader.groupby([\"experiment\", \"order_on_write\", 'operation']).plot(kind=\"bar\", y='latency')\n",
    "\n",
    "\n",
    "\n",
    "# sns.catplot(kind=\"bar\", x=\"experiment\", y=\"latency\", hue=\"operation\", col=\"order_on_write\", row=\"n_nodes\", data=agg_df_leader)\n",
    "\n",
    "for group, group_df in agg_df_leader.groupby([\"experiment\", 'operation']):\n",
    "    # display(group_df)\n",
    "    # axs[idx].set_title(group_df.iloc[0, 1])\n",
    "    axs[idx].set_title(f\"order_on_write={group[0]}, operation={group[1]}\")\n",
    "    plt.title(str(group))\n",
    "    plt.title(f\"order_on_write={group[0]}, operation={group[1]}\")\n",
    "    # sns.barplot(x='experiment', y='latency', hue=\"on_leader\", data=group_df)\n",
    "    # plt.show()\n",
    "    idx += 1"
   ]
  },
  {
   "cell_type": "code",
   "execution_count": null,
   "metadata": {
    "collapsed": false,
    "pycharm": {
     "name": "#%%\n"
    }
   },
   "outputs": [],
   "source": [
    "# def speedup(sub_df):\n",
    "#     two_nodes_df = sub_df[sub_df[\"n_nodes\"] == 2]\n",
    "#     sub_df[\"speedup\"] = sub_df[\"latency\"] / two_nodes_df[\"latency\"].values\n",
    "#     return sub_df\n",
    "#\n",
    "# agg_df_with_speedup = agg_df.groupby(['order_on_write', 'operation']).apply(speedup)\n",
    "\n",
    "# fig = ax.get_figure()\n",
    "# fig.savefig('results/figures/order_before_vs_after_write.pdf')"
   ]
  },
  {
   "cell_type": "code",
   "execution_count": null,
   "metadata": {
    "collapsed": false,
    "pycharm": {
     "name": "#%%\n"
    }
   },
   "outputs": [],
   "source": []
  }
 ],
 "metadata": {
  "interpreter": {
   "hash": "c5b322d1f5beaecfb28b050f61b5bc2c682da0c88a01138942a1439f934c1c07"
  },
  "kernelspec": {
   "display_name": "Python 3.9.7 64-bit",
   "language": "python",
   "name": "python3"
  },
  "language_info": {
   "codemirror_mode": {
    "name": "ipython",
    "version": 3
   },
   "file_extension": ".py",
   "mimetype": "text/x-python",
   "name": "python",
   "nbconvert_exporter": "python",
   "pygments_lexer": "ipython3",
   "version": "3.9.7"
  },
  "orig_nbformat": 4
 },
 "nbformat": 4,
 "nbformat_minor": 2
}
