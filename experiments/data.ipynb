{
 "cells": [
  {
   "cell_type": "code",
   "execution_count": 2,
   "metadata": {},
   "outputs": [],
   "source": [
    "import pandas as pd\n",
    "import matplotlib.pyplot as plt"
   ]
  },
  {
   "cell_type": "code",
   "execution_count": 3,
   "metadata": {},
   "outputs": [
    {
     "data": {
      "text/plain": "   write_latencies  read_latencies             system\n0         0.509081        0.217010  order_after_write\n1         0.525935        0.177596  order_after_write\n2         0.624393        0.293948  order_after_write\n3         0.542233        0.156860  order_after_write\n4         0.507256        0.272425  order_after_write",
      "text/html": "<div>\n<style scoped>\n    .dataframe tbody tr th:only-of-type {\n        vertical-align: middle;\n    }\n\n    .dataframe tbody tr th {\n        vertical-align: top;\n    }\n\n    .dataframe thead th {\n        text-align: right;\n    }\n</style>\n<table border=\"1\" class=\"dataframe\">\n  <thead>\n    <tr style=\"text-align: right;\">\n      <th></th>\n      <th>write_latencies</th>\n      <th>read_latencies</th>\n      <th>system</th>\n    </tr>\n  </thead>\n  <tbody>\n    <tr>\n      <th>0</th>\n      <td>0.509081</td>\n      <td>0.217010</td>\n      <td>order_after_write</td>\n    </tr>\n    <tr>\n      <th>1</th>\n      <td>0.525935</td>\n      <td>0.177596</td>\n      <td>order_after_write</td>\n    </tr>\n    <tr>\n      <th>2</th>\n      <td>0.624393</td>\n      <td>0.293948</td>\n      <td>order_after_write</td>\n    </tr>\n    <tr>\n      <th>3</th>\n      <td>0.542233</td>\n      <td>0.156860</td>\n      <td>order_after_write</td>\n    </tr>\n    <tr>\n      <th>4</th>\n      <td>0.507256</td>\n      <td>0.272425</td>\n      <td>order_after_write</td>\n    </tr>\n  </tbody>\n</table>\n</div>"
     },
     "execution_count": 3,
     "metadata": {},
     "output_type": "execute_result"
    }
   ],
   "source": [
    "df = pd.read_csv('results/experiment1_20211208181535.csv')\n",
    "df.write_latencies = df.write_latencies * 1000\n",
    "df.read_latencies = df.read_latencies * 1000\n",
    "df.head()"
   ]
  },
  {
   "cell_type": "code",
   "execution_count": 16,
   "outputs": [
    {
     "name": "stderr",
     "output_type": "stream",
     "text": [
      "/Users/steliosrammos/Documents/Education/VU-CS-Master/Year2/period2/distributed-systems/distributed-systems/venv/lib/python3.9/site-packages/pandas/plotting/_matplotlib/boxplot.py:394: UserWarning: When passing multiple axes, sharex and sharey are ignored. These settings must be specified when creating axes\n",
      "  ax = boxplot(\n"
     ]
    },
    {
     "data": {
      "text/plain": "Text(0.5, 0.98, 'Mean Latency Per Operation')"
     },
     "execution_count": 16,
     "metadata": {},
     "output_type": "execute_result"
    },
    {
     "data": {
      "text/plain": "<Figure size 504x360 with 2 Axes>",
      "image/png": "[encoded data removed]"
     },
     "metadata": {
      "needs_background": "light"
     },
     "output_type": "display_data"
    }
   ],
   "source": [
    "fig, axs = plt.subplots(1, 2, figsize=(7, 5))\n",
    "\n",
    "df.boxplot(by='system', ax=axs, grid=True)\n",
    "axs[0].set(ylabel='latency (ms)')\n",
    "fig.suptitle('Mean Latency Per Operation')"
   ],
   "metadata": {
    "collapsed": false,
    "pycharm": {
     "name": "#%%\n"
    }
   }
  },
  {
   "cell_type": "code",
   "execution_count": 17,
   "outputs": [],
   "source": [
    "# fig = ax.get_figure()\n",
    "fig.savefig('results/figures/order_before_vs_after_write.pdf')"
   ],
   "metadata": {
    "collapsed": false,
    "pycharm": {
     "name": "#%%\n"
    }
   }
  },
  {
   "cell_type": "code",
   "execution_count": null,
   "outputs": [],
   "source": [],
   "metadata": {
    "collapsed": false,
    "pycharm": {
     "name": "#%%\n"
    }
   }
  }
 ],
 "metadata": {
  "interpreter": {
   "hash": "c5b322d1f5beaecfb28b050f61b5bc2c682da0c88a01138942a1439f934c1c07"
  },
  "kernelspec": {
   "display_name": "Python 3.9.7 64-bit",
   "language": "python",
   "name": "python3"
  },
  "language_info": {
   "codemirror_mode": {
    "name": "ipython",
    "version": 3
   },
   "file_extension": ".py",
   "mimetype": "text/x-python",
   "name": "python",
   "nbconvert_exporter": "python",
   "pygments_lexer": "ipython3",
   "version": "3.9.7"
  },
  "orig_nbformat": 4
 },
 "nbformat": 4,
 "nbformat_minor": 2
}